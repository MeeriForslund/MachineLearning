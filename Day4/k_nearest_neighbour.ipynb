{
 "cells": [
  {
   "cell_type": "markdown",
   "metadata": {},
   "source": [
    "## K-Nearest_Neighbour"
   ]
  },
  {
   "cell_type": "code",
   "execution_count": 4,
   "metadata": {},
   "outputs": [],
   "source": [
    "import numpy as np\n",
    "\n",
    "x = [1,2,3,6,7,8]\n",
    "y = [1,2,3,6,7,8]\n",
    "\n",
    "category = ['A','A','A','B','B','B']\n",
    "\n",
    "k = 3\n"
   ]
  },
  {
   "attachments": {
    "image.png": {
     "image/png": "[encoded data removed]"
    }
   },
   "cell_type": "markdown",
   "metadata": {},
   "source": [
    "![image.png](attachment:image.png)"
   ]
  },
  {
   "cell_type": "code",
   "execution_count": 5,
   "metadata": {},
   "outputs": [],
   "source": [
    "def distance(x1,y1,x2,y2):\n",
    "    dist = np.sqrt((x2-x1)**2 + (y2-y1)**2)\n",
    "    return dist"
   ]
  },
  {
   "cell_type": "markdown",
   "metadata": {},
   "source": [
    "Lets define a new dot at 6.5, 4.2"
   ]
  },
  {
   "cell_type": "code",
   "execution_count": 6,
   "metadata": {},
   "outputs": [],
   "source": [
    "point_x = 6.5\n",
    "point_y = 4.2"
   ]
  },
  {
   "cell_type": "markdown",
   "metadata": {},
   "source": [
    "Distances, we need all distances."
   ]
  },
  {
   "cell_type": "code",
   "execution_count": 7,
   "metadata": {},
   "outputs": [],
   "source": [
    "all_distances = []\n",
    "all_distances_sorted = []"
   ]
  },
  {
   "cell_type": "markdown",
   "metadata": {},
   "source": [
    "Loop to calculate all distances into a list of distances and a sorted list of distances."
   ]
  },
  {
   "cell_type": "code",
   "execution_count": 8,
   "metadata": {},
   "outputs": [
    {
     "name": "stdout",
     "output_type": "stream",
     "text": [
      "[np.float64(6.363175307973213), np.float64(5.008991914547277), np.float64(3.7), np.float64(1.8681541692269403), np.float64(2.8442925306655784), np.float64(4.085339643163099)]\n"
     ]
    }
   ],
   "source": [
    "for i in range(len(x)):\n",
    "    dist = distance(x[i], y[i], point_x, point_y)\n",
    "    all_distances.append(dist)\n",
    "    all_distances_sorted.append(dist)\n",
    "\n",
    "print(all_distances)"
   ]
  },
  {
   "cell_type": "code",
   "execution_count": 15,
   "metadata": {},
   "outputs": [
    {
     "name": "stdout",
     "output_type": "stream",
     "text": [
      "1.8681541692269403\n",
      "2.8442925306655784\n",
      "3.7\n",
      "4.085339643163099\n",
      "5.008991914547277\n",
      "6.363175307973213\n",
      "Sorted ^above\n",
      "6.363175307973213\n",
      "5.008991914547277\n",
      "3.7\n",
      "1.8681541692269403\n",
      "2.8442925306655784\n",
      "4.085339643163099\n",
      "3\n",
      "1.8681541692269403\n",
      "4\n",
      "2.8442925306655784\n",
      "2\n",
      "3.7\n"
     ]
    }
   ],
   "source": [
    "all_distances_sorted.sort()\n",
    "nr_of_category = []\n",
    "\n",
    "for i in range(len(all_distances_sorted)):\n",
    "    print(all_distances_sorted[i])\n",
    "print('Sorted ^above')\n",
    "for i in range(len(all_distances)):\n",
    "    print(all_distances[i])\n",
    "\n",
    "for i in range(k):\n",
    "    nr_of_category.append(category[all_distances.index(all_distances_sorted[i])])\n",
    "    print(all_distances.index(all_distances_sorted[i]))\n",
    "    print(all_distances_sorted[i])"
   ]
  },
  {
   "cell_type": "code",
   "execution_count": 10,
   "metadata": {},
   "outputs": [
    {
     "name": "stdout",
     "output_type": "stream",
     "text": [
      "The 3 nearest neighbours have the category: B B A\n"
     ]
    }
   ],
   "source": [
    "print(f\"The {k} nearest neighbours have the category:\", *nr_of_category)"
   ]
  },
  {
   "cell_type": "code",
   "execution_count": 12,
   "metadata": {},
   "outputs": [
    {
     "name": "stdout",
     "output_type": "stream",
     "text": [
      "So this point is: B\n"
     ]
    }
   ],
   "source": [
    "print('So this point is: ', end=\"\")\n",
    "if(nr_of_category.count('A') > nr_of_category.count('B') ):\n",
    "    print('A')\n",
    "else:\n",
    "    print('B')"
   ]
  }
 ],
 "metadata": {
  "kernelspec": {
   "display_name": ".venv",
   "language": "python",
   "name": "python3"
  },
  "language_info": {
   "codemirror_mode": {
    "name": "ipython",
    "version": 3
   },
   "file_extension": ".py",
   "mimetype": "text/x-python",
   "name": "python",
   "nbconvert_exporter": "python",
   "pygments_lexer": "ipython3",
   "version": "3.12.0"
  }
 },
 "nbformat": 4,
 "nbformat_minor": 2
}
