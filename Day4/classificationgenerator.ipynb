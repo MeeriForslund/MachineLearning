{
 "cells": [
  {
   "cell_type": "code",
   "execution_count": 1,
   "metadata": {},
   "outputs": [
    {
     "name": "stdout",
     "output_type": "stream",
     "text": [
      "Synthetic data generated and saved to 'synthetic_data.csv'\n"
     ]
    }
   ],
   "source": [
    "import numpy as np\n",
    "import pandas as pd\n",
    "from sklearn.datasets import make_classification\n",
    "\n",
    "# Parameters\n",
    "n_samples = 1000  # Number of samples\n",
    "n_features = 20   # Number of features\n",
    "n_informative = 15  # Number of informative features\n",
    "n_classes = 2     # Number of classes\n",
    "\n",
    "# Generate synthetic classification data\n",
    "X, y = make_classification(n_samples=n_samples, n_features=n_features, \n",
    "                           n_informative=n_informative, n_classes=n_classes, \n",
    "                           random_state=42)\n",
    "\n",
    "# Convert to DataFrame for easier manipulation\n",
    "df = pd.DataFrame(X, columns=[f'feature_{i}' for i in range(n_features)])\n",
    "df['target'] = y\n",
    "\n",
    "# Add a regression target based on a linear combination of features\n",
    "regression_target = np.dot(df.iloc[:, :n_informative], np.random.rand(n_informative)) + np.random.randn(n_samples)\n",
    "df['regression_target'] = regression_target\n",
    "\n",
    "# Save to CSV\n",
    "df.to_csv('synthetic_classification_data.csv', index=False)\n",
    "\n",
    "print(\"Synthetic data generated and saved to 'synthetic_classification_data.csv'\")\n"
   ]
  }
 ],
 "metadata": {
  "kernelspec": {
   "display_name": ".venv",
   "language": "python",
   "name": "python3"
  },
  "language_info": {
   "codemirror_mode": {
    "name": "ipython",
    "version": 3
   },
   "file_extension": ".py",
   "mimetype": "text/x-python",
   "name": "python",
   "nbconvert_exporter": "python",
   "pygments_lexer": "ipython3",
   "version": "3.12.0"
  }
 },
 "nbformat": 4,
 "nbformat_minor": 2
}
